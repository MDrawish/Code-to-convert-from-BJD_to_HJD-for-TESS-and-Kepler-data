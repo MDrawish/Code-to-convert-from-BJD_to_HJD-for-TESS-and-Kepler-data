{
 "cells": [
  {
   "cell_type": "code",
   "execution_count": 13,
   "id": "f0072945",
   "metadata": {},
   "outputs": [
    {
     "name": "stdout",
     "output_type": "stream",
     "text": [
      "BJD: 2452853.512687, JD: 2452853.512687\n",
      "BJD: 2452853.385369, JD: 2452853.385369\n",
      "JD: 2452853.512687, HJD: 2452852.498497949\n",
      "JD: 2452853.385369, HJD: 2452852.3711625547\n"
     ]
    }
   ],
   "source": [
    "from astropy.time import Time\n",
    "from astropy.time import Time\n",
    "from astropy.coordinates import solar_system_ephemeris, get_body_barycentric\n",
    "from astropy import units as u\n",
    "from astropy.constants import au\n",
    "\n",
    "# Define your BJD (Barycentric Julian Date) values\n",
    "bjd_values = [2452853.512687, 2452853.385369]\n",
    "\n",
    "# Create a Time object with your BJD values\n",
    "t = Time(bjd_values, format=\"jd\", scale=\"tdb\")\n",
    "\n",
    "# Convert BJD to JD (Julian Date)\n",
    "jd_values = t.jd\n",
    "\n",
    "# Print the JD values\n",
    "for bjd, jd in zip(bjd_values, jd_values):\n",
    "    print(f'BJD: {bjd}, JD: {jd}')\n",
    "    \n",
    "#\n",
    "# Define your JD (Julian Date) values\n",
    "jd_values = [2452853.512687, 2452853.385369]\n",
    "\n",
    "# Define the coordinates (e.g., RA and Dec) of your target\n",
    "ra = 10.01978 * u.deg  # Right Ascension in degrees\n",
    "dec = 38.92545 * u.deg  # Declination in degrees\n",
    "\n",
    "# Create a Time object with your JD values\n",
    "t = Time(jd_values, format=\"jd\", scale=\"utc\")\n",
    "\n",
    "# Calculate the Barycentric velocity correction\n",
    "with solar_system_ephemeris.set(\"builtin\"):\n",
    "    earth_barycentric = get_body_barycentric(\"earth\", t)\n",
    "    hjd_bary = get_body_barycentric(\"sun\", t)\n",
    "\n",
    "# Calculate the HJD values\n",
    "hjd_values = t.tdb - (earth_barycentric.norm() / au) + (hjd_bary.norm() / au)\n",
    "\n",
    "# Print the HJD values\n",
    "for jd, hjd in zip(jd_values, hjd_values):\n",
    "    print(f'JD: {jd}, HJD: {hjd}')"
   ]
  },
  {
   "cell_type": "code",
   "execution_count": null,
   "id": "c502b9c2",
   "metadata": {},
   "outputs": [],
   "source": []
  }
 ],
 "metadata": {
  "kernelspec": {
   "display_name": "Python 3",
   "language": "python",
   "name": "python3"
  },
  "language_info": {
   "codemirror_mode": {
    "name": "ipython",
    "version": 3
   },
   "file_extension": ".py",
   "mimetype": "text/x-python",
   "name": "python",
   "nbconvert_exporter": "python",
   "pygments_lexer": "ipython3",
   "version": "3.8.8"
  }
 },
 "nbformat": 4,
 "nbformat_minor": 5
}
